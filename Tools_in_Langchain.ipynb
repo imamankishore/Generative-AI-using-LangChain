{
 "cells": [
  {
   "cell_type": "markdown",
   "id": "cfab3680-40dd-4c42-aabb-4a5e3c02e542",
   "metadata": {},
   "source": [
    "## Built-in Tool - DuckDuckGo Search"
   ]
  },
  {
   "cell_type": "code",
   "execution_count": 22,
   "id": "2017de75-e0cb-4626-85e9-c91b31525e76",
   "metadata": {},
   "outputs": [],
   "source": [
    "from langchain.tools import DuckDuckGoSearchRun"
   ]
  },
  {
   "cell_type": "code",
   "execution_count": 26,
   "id": "09d3f015-162e-4b40-b1ab-d469ca803e8f",
   "metadata": {},
   "outputs": [
    {
     "name": "stdout",
     "output_type": "stream",
     "text": [
      "3 days ago · Get the latest updates and breaking news from India , including politics, elections, government, business, technology, and Bollywood. India News Today: Get latest India news and breaking news from India on Times of India. TOI brings the top news headlines from India on Politics, Elections, Current Affairs and more. This article is about various news from different parts of India including the arrest of a former principal secretary in Kerala, FATF's black list, social and emotional disability of a man, violation of poll code by DMK workers, searches conducted at four locations in Mumbai leading to recovery of money and jewellery, use of buggies for ceremonial ... See full list on indiatoday. in Myanmar, Iran and North Korea continue to be on the 'Black List' of FATF as \"high-risk jurisdictions\". See full list on indiatoday. in Former principal secretary in Kerala CM's Office arrested for corruption in Life Mission Project, remanded till March 8. See full list on indiatoday. in A man was unable to become a father due to social and emotional disability despite being married for five years. See full list on indiatoday. in The voters were confined by DMK workers during polls which is a violation of poll code. See full list on indiatoday. in Siddiqui, the lone legislator of Indian Secular Front (ISF) was arrested after clashes broke out between police personnel and party’s supporters. See full list on indiatoday. in Searches were conducted leading to recovery of Rs 63 Lakh (approximately), huge quantity jewellery, gold biscuits & cash found. See full list on indiatoday. in Read full articles, watch videos, browse thousands of titles and more on the ' India ' topic with Google News. 6 days ago · Latest News Today: Read latest and breaking news from India and across the world. Explore more for current news , premium and WSJ news , business news on Mint. 10 hours ago · Playing in picture-in-picture Times Now LIVE TV - Watch Live News on Times Now Live TV for all the latest and breaking news and updates from India , Politics, International News , Cities, Crime and all that matters to you. From the world of business, fashion and lifestyle, our reporters bring exclusive coverage from forums and events. Stay Up-to-date with Top news in India , current headlines, photos & videos online, live coverage on entertainment, business, politics, sports, technology and more at indianexpress.com. Read full articles, watch videos, browse thousands of titles and more on the ' India ' topic with Google News. 6 days ago · Latest News Today: Read latest and breaking news from India and across the world. Explore more for current news , premium and WSJ news , business news on Mint.\n"
     ]
    }
   ],
   "source": [
    "search_tool = DuckDuckGoSearchRun()\n",
    "results = search_tool.invoke(\"Give me the latesat news in India in English\")\n",
    "print(results)"
   ]
  },
  {
   "cell_type": "markdown",
   "id": "365811d1-95f8-468c-9b10-262806eabbea",
   "metadata": {},
   "source": [
    "## Built-in Tool - Shell Tool"
   ]
  },
  {
   "cell_type": "code",
   "execution_count": 9,
   "id": "c445a05e-f8e5-4d84-9c85-27ed17108cc8",
   "metadata": {},
   "outputs": [],
   "source": [
    "from langchain_community.tools import ShellTool"
   ]
  },
  {
   "cell_type": "code",
   "execution_count": 18,
   "id": "21d34fd1-5c8a-4753-8524-6ae542cfb9b7",
   "metadata": {},
   "outputs": [
    {
     "name": "stdout",
     "output_type": "stream",
     "text": [
      "Executing command:\n",
      " whoami\n",
      "aman\\itsam\n",
      "\n"
     ]
    },
    {
     "name": "stderr",
     "output_type": "stream",
     "text": [
      "C:\\Users\\itsam\\anaconda3\\Lib\\site-packages\\langchain_community\\tools\\shell\\tool.py:33: UserWarning: The shell tool has no safeguards by default. Use at your own risk.\n",
      "  warnings.warn(\n"
     ]
    }
   ],
   "source": [
    "shell = ShellTool()  \n",
    "results = shell.invoke(input='whoami') \n",
    "print(results) "
   ]
  },
  {
   "cell_type": "markdown",
   "id": "c3af869b-9ed1-4098-9198-62096602856a",
   "metadata": {},
   "source": [
    "## Custom Tools"
   ]
  },
  {
   "cell_type": "code",
   "execution_count": 27,
   "id": "2f466bf7-11c7-4467-9410-9b50e9929531",
   "metadata": {},
   "outputs": [],
   "source": [
    "from langchain_core.tools import tool"
   ]
  },
  {
   "cell_type": "code",
   "execution_count": 32,
   "id": "1ce4790a-99e3-442a-8949-fcaa57cfe4bd",
   "metadata": {},
   "outputs": [],
   "source": [
    "#step 1 = Cretaing a function\n",
    "def multiply(a,b):\n",
    "    \"\"\"Multiply two numbers\"\"\"\n",
    "    return a*b"
   ]
  },
  {
   "cell_type": "code",
   "execution_count": 33,
   "id": "fab14735-89fd-481a-9373-36de4027a4f8",
   "metadata": {},
   "outputs": [],
   "source": [
    "#step 2 = add type hints\n",
    "def multiply(a: int , b: int) -> int:\n",
    "    \"\"\"Multiply two numbers\"\"\"\n",
    "    return a*b"
   ]
  },
  {
   "cell_type": "code",
   "execution_count": 34,
   "id": "b6f803cc-dee3-4c16-89f2-ed72b467b4f3",
   "metadata": {},
   "outputs": [],
   "source": [
    "# Step 3 = add tool decorator\n",
    "\n",
    "@tool\n",
    "def multiply(a: int , b:int) -> int:\n",
    "    \"\"\"Multiply two numbers\"\"\"\n",
    "    return a*b"
   ]
  },
  {
   "cell_type": "code",
   "execution_count": 35,
   "id": "3929916a-65ba-4364-ab8d-454436feffc5",
   "metadata": {},
   "outputs": [],
   "source": [
    "results = multiply.invoke({\"a\":3 , \"b\":5})"
   ]
  },
  {
   "cell_type": "code",
   "execution_count": 37,
   "id": "9d87807e-2a0d-4da9-95ca-4325188e9f15",
   "metadata": {},
   "outputs": [
    {
     "data": {
      "text/plain": [
       "15"
      ]
     },
     "execution_count": 37,
     "metadata": {},
     "output_type": "execute_result"
    }
   ],
   "source": [
    "results"
   ]
  },
  {
   "cell_type": "code",
   "execution_count": 38,
   "id": "145de6c3-c16d-4db3-acd5-bb30120660b3",
   "metadata": {},
   "outputs": [
    {
     "name": "stdout",
     "output_type": "stream",
     "text": [
      "multiply\n",
      "Multiply two numbers\n",
      "{'a': {'title': 'A', 'type': 'integer'}, 'b': {'title': 'B', 'type': 'integer'}}\n"
     ]
    }
   ],
   "source": [
    "print(multiply.name)\n",
    "print(multiply.description)\n",
    "print(multiply.args)"
   ]
  },
  {
   "cell_type": "code",
   "execution_count": 39,
   "id": "e0697cb8-eddd-4d08-930b-8b33de860e82",
   "metadata": {},
   "outputs": [
    {
     "data": {
      "text/plain": [
       "{'description': 'Multiply two numbers',\n",
       " 'properties': {'a': {'title': 'A', 'type': 'integer'},\n",
       "  'b': {'title': 'B', 'type': 'integer'}},\n",
       " 'required': ['a', 'b'],\n",
       " 'title': 'multiply',\n",
       " 'type': 'object'}"
      ]
     },
     "execution_count": 39,
     "metadata": {},
     "output_type": "execute_result"
    }
   ],
   "source": [
    "multiply.args_schema.model_json_schema()"
   ]
  },
  {
   "cell_type": "markdown",
   "id": "024a9f12-5b32-489b-a8e3-8ceb4dd5f76a",
   "metadata": {},
   "source": [
    "## Method 2 - Using StructuredTool\n"
   ]
  },
  {
   "cell_type": "code",
   "execution_count": 40,
   "id": "18b380ea-dd03-41a2-b8c3-e06b69107575",
   "metadata": {},
   "outputs": [],
   "source": [
    "from langchain.tools import StructuredTool\n",
    "from pydantic import BaseModel , Field"
   ]
  },
  {
   "cell_type": "code",
   "execution_count": 41,
   "id": "4d24dcf6-4220-4aea-9893-b3ac2db4c441",
   "metadata": {},
   "outputs": [],
   "source": [
    "class MultiplyInput(BaseModel):\n",
    "    a: int = Field(required= True , description=\"The first number to add\")\n",
    "    b: int = Field(required= True , description=\"The second number to add\")"
   ]
  },
  {
   "cell_type": "code",
   "execution_count": 42,
   "id": "5c733ced-2499-4e97-9f83-0b881feb1c4e",
   "metadata": {},
   "outputs": [],
   "source": [
    "def multiply_func(a: int , b: int) -> int:\n",
    "    return a*b"
   ]
  },
  {
   "cell_type": "code",
   "execution_count": 43,
   "id": "ddf8693c-47e9-4c2d-83e9-ae28c5adf4c1",
   "metadata": {},
   "outputs": [],
   "source": [
    "multiply_tool = StructuredTool.from_function(\n",
    "    func=multiply_func,\n",
    "    name='Multiply',\n",
    "    description=\"Multiply two numbers\",\n",
    "    args_schema=MultiplyInput\n",
    ")"
   ]
  },
  {
   "cell_type": "code",
   "execution_count": 44,
   "id": "7e9f1df7-1c95-4343-b270-0754fec9a776",
   "metadata": {},
   "outputs": [],
   "source": [
    "results = multiply_tool.invoke({'a':3,'b':3})"
   ]
  },
  {
   "cell_type": "code",
   "execution_count": 47,
   "id": "54bfbac6-47df-4725-af20-565de2fcdc0d",
   "metadata": {},
   "outputs": [
    {
     "name": "stdout",
     "output_type": "stream",
     "text": [
      "9\n",
      "Multiply\n",
      "Multiply two numbers\n",
      "{'a': {'description': 'The first number to add', 'required': True, 'title': 'A', 'type': 'integer'}, 'b': {'description': 'The second number to add', 'required': True, 'title': 'B', 'type': 'integer'}}\n"
     ]
    }
   ],
   "source": [
    "print(results)\n",
    "print(multiply_tool.name)\n",
    "print(multiply_tool.description)\n",
    "print(multiply_tool.args)"
   ]
  },
  {
   "cell_type": "markdown",
   "id": "0f91c6f5-435c-4738-99ba-bf7f766f5ffe",
   "metadata": {},
   "source": [
    "## Method 3 - Using BaseTool Class"
   ]
  },
  {
   "cell_type": "code",
   "execution_count": 49,
   "id": "88872434-506a-4298-8fab-5693e2317816",
   "metadata": {},
   "outputs": [],
   "source": [
    "from langchain.tools import BaseTool\n",
    "from typing import Type"
   ]
  },
  {
   "cell_type": "code",
   "execution_count": 50,
   "id": "74733761-50a4-428a-acc4-fb696b95e064",
   "metadata": {},
   "outputs": [],
   "source": [
    "class MultiplyTool(BaseTool):\n",
    "    name: str = \"multiply\"\n",
    "    description: str = \"Multiply two numbers\"\n",
    "\n",
    "    args_schema: Type[BaseModel] = MultiplyInput\n",
    "\n",
    "    def _run(self, a: int, b: int) -> int:\n",
    "        return a * b"
   ]
  },
  {
   "cell_type": "code",
   "execution_count": 52,
   "id": "cdcee64e-0560-486c-9ab0-740468442e73",
   "metadata": {},
   "outputs": [],
   "source": [
    "multiply_tool = MultiplyTool()"
   ]
  },
  {
   "cell_type": "code",
   "execution_count": 53,
   "id": "50d1338d-5fb8-4668-bb6b-008481b381ce",
   "metadata": {},
   "outputs": [
    {
     "name": "stdout",
     "output_type": "stream",
     "text": [
      "9\n",
      "multiply\n",
      "Multiply two numbers\n",
      "{'a': {'description': 'The first number to add', 'required': True, 'title': 'A', 'type': 'integer'}, 'b': {'description': 'The second number to add', 'required': True, 'title': 'B', 'type': 'integer'}}\n"
     ]
    }
   ],
   "source": [
    "result = multiply_tool.invoke({'a':3, 'b':3})\n",
    "\n",
    "print(result)\n",
    "print(multiply_tool.name)\n",
    "print(multiply_tool.description)\n",
    "\n",
    "print(multiply_tool.args)"
   ]
  },
  {
   "cell_type": "markdown",
   "id": "9f3702c8-0ea5-4ad5-9dad-615b83065db8",
   "metadata": {},
   "source": [
    "## Toolkit"
   ]
  },
  {
   "cell_type": "code",
   "execution_count": 54,
   "id": "bf6ad5ba-3bdd-4ba5-bfdb-bfc2dc2b5f6e",
   "metadata": {},
   "outputs": [],
   "source": [
    "from langchain_core.tools import tool\n",
    "\n",
    "# Custom tools\n",
    "@tool\n",
    "def add(a: int, b: int) -> int:\n",
    "    \"\"\"Add two numbers\"\"\"\n",
    "    return a + b\n",
    "\n",
    "@tool\n",
    "def multiply(a: int, b: int) -> int:\n",
    "    \"\"\"Multiply two numbers\"\"\"\n",
    "    return a * b\n"
   ]
  },
  {
   "cell_type": "code",
   "execution_count": 55,
   "id": "b6d96add-2a6a-4460-abd3-2bb4a71e8825",
   "metadata": {},
   "outputs": [],
   "source": [
    "class MathToolkit:\n",
    "    def get_tools(self):\n",
    "        return [add , multiply]"
   ]
  },
  {
   "cell_type": "code",
   "execution_count": 56,
   "id": "90e0b74f-eeeb-45d2-8682-9557e740102d",
   "metadata": {},
   "outputs": [
    {
     "name": "stdout",
     "output_type": "stream",
     "text": [
      "add => Add two numbers\n",
      "multiply => Multiply two numbers\n"
     ]
    }
   ],
   "source": [
    "toolkit = MathToolkit()\n",
    "tools = toolkit.get_tools()\n",
    "\n",
    "for tool in tools:\n",
    "    print(tool.name , \"=>\" , tool.description)"
   ]
  },
  {
   "cell_type": "code",
   "execution_count": null,
   "id": "05ca9326-03fd-4376-8ac7-02adf824f5cf",
   "metadata": {},
   "outputs": [],
   "source": []
  }
 ],
 "metadata": {
  "kernelspec": {
   "display_name": "Python [conda env:base] *",
   "language": "python",
   "name": "conda-base-py"
  },
  "language_info": {
   "codemirror_mode": {
    "name": "ipython",
    "version": 3
   },
   "file_extension": ".py",
   "mimetype": "text/x-python",
   "name": "python",
   "nbconvert_exporter": "python",
   "pygments_lexer": "ipython3",
   "version": "3.12.7"
  }
 },
 "nbformat": 4,
 "nbformat_minor": 5
}
