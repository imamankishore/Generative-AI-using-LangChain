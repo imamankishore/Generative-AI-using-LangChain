{
 "cells": [
  {
   "cell_type": "code",
   "execution_count": 5,
   "id": "f47bc4cb-82ef-447d-9135-edcb995780ec",
   "metadata": {},
   "outputs": [],
   "source": [
    "from langchain_huggingface import ChatHuggingFace\n",
    "from langchain_core.tools import tool\n",
    "from langchain_core.messages import HumanMessage\n",
    "import requests"
   ]
  },
  {
   "cell_type": "code",
   "execution_count": 6,
   "id": "f34a8dc4-b352-413e-b098-f6f38e1834ab",
   "metadata": {},
   "outputs": [],
   "source": [
    "from langchain_huggingface import HuggingFacePipeline"
   ]
  },
  {
   "cell_type": "code",
   "execution_count": 33,
   "id": "5071d414-1b01-4c70-8df8-45d9b52e0381",
   "metadata": {},
   "outputs": [],
   "source": [
    "# tool create\n",
    "from langchain_core.tools import InjectedToolArg\n",
    "from typing import Annotated\n",
    "\n",
    "@tool\n",
    "def get_conversion_factor(base_currency: str , target_currency: str) -> float:\n",
    "    \"\"\"\n",
    "    This function fetches the currency conversion between a given base currency and a target currency\n",
    "    \"\"\"\n",
    "    url =  f'https://v6.exchangerate-api.com/v6/31536d9fc105b5a1bf602a3c/pair/{base_currency}/{target_currency}'\n",
    "\n",
    "    response = requests.get(url)\n",
    "    return response.json()\n",
    "\n",
    "\n",
    "@tool\n",
    "def convert(base_currency_value: int , conversion_rate: Annotated[float , InjectedToolArg]) -> float:\n",
    "    \"\"\"\n",
    "    Given a currency conversion rate this function calculates the target currency value from a goven base currency value\n",
    "    \"\"\"\n",
    "    return base_currency_value * conversion_rate"
   ]
  },
  {
   "cell_type": "code",
   "execution_count": 34,
   "id": "2b4de024-92fc-484c-bd35-d61fa9fef591",
   "metadata": {},
   "outputs": [
    {
     "data": {
      "text/plain": [
       "{'result': 'success',\n",
       " 'documentation': 'https://www.exchangerate-api.com/docs',\n",
       " 'terms_of_use': 'https://www.exchangerate-api.com/terms',\n",
       " 'time_last_update_unix': 1760486401,\n",
       " 'time_last_update_utc': 'Wed, 15 Oct 2025 00:00:01 +0000',\n",
       " 'time_next_update_unix': 1760572801,\n",
       " 'time_next_update_utc': 'Thu, 16 Oct 2025 00:00:01 +0000',\n",
       " 'base_code': 'USD',\n",
       " 'target_code': 'INR',\n",
       " 'conversion_rate': 88.8152}"
      ]
     },
     "execution_count": 34,
     "metadata": {},
     "output_type": "execute_result"
    }
   ],
   "source": [
    "get_conversion_factor.invoke({'base_currency' :'USD' , 'target_currency':'INR'})"
   ]
  },
  {
   "cell_type": "code",
   "execution_count": 35,
   "id": "439f25ab-97df-41af-aa66-ea7b52ae9b7f",
   "metadata": {},
   "outputs": [
    {
     "data": {
      "text/plain": [
       "888.152"
      ]
     },
     "execution_count": 35,
     "metadata": {},
     "output_type": "execute_result"
    }
   ],
   "source": [
    "convert.invoke({'base_currency_value': 10, 'conversion_rate': 88.8152})"
   ]
  },
  {
   "cell_type": "code",
   "execution_count": 36,
   "id": "c9ba9e43-07b1-4b5b-aa93-cecdca3bc1a3",
   "metadata": {},
   "outputs": [
    {
     "name": "stderr",
     "output_type": "stream",
     "text": [
      "Device set to use cpu\n"
     ]
    }
   ],
   "source": [
    "model_name = r\"C:\\Users\\itsam\\LangChain Models\\TinyLlama-1.1B-Chat-v1.0\"\n",
    "\n",
    "# LLM setup\n",
    "llm = HuggingFacePipeline.from_model_id(\n",
    "    model_id=model_name,\n",
    "    task=\"text-generation\",\n",
    "    model_kwargs={\"temperature\": 0.7, \"max_length\": 256}\n",
    ")\n",
    "model = ChatHuggingFace(llm=llm)"
   ]
  },
  {
   "cell_type": "code",
   "execution_count": 37,
   "id": "a809aac2-9c2a-49d3-8a77-b526c0f2d8ab",
   "metadata": {},
   "outputs": [],
   "source": [
    "#tool binding\n",
    "\n",
    "\n",
    "llm_with_tools = model.bind_tools([get_conversion_factor,get_conversion_factor])"
   ]
  },
  {
   "cell_type": "code",
   "execution_count": 38,
   "id": "1b440529-8d68-4535-8aa6-6ab438363276",
   "metadata": {},
   "outputs": [],
   "source": [
    "messages = [HumanMessage('What is the conversion factor between USD and INR and based on that can you converst 10 USD to INR?')]"
   ]
  },
  {
   "cell_type": "code",
   "execution_count": 39,
   "id": "f4d1a16d-4456-4741-9880-f9e086945a01",
   "metadata": {},
   "outputs": [
    {
     "data": {
      "text/plain": [
       "[HumanMessage(content='What is the conversion factor between USD and INR and based on that can you converst 10 USD to INR?', additional_kwargs={}, response_metadata={})]"
      ]
     },
     "execution_count": 39,
     "metadata": {},
     "output_type": "execute_result"
    }
   ],
   "source": [
    "messages"
   ]
  },
  {
   "cell_type": "code",
   "execution_count": null,
   "id": "4d6420e8-784a-463e-8125-daefbb7b601c",
   "metadata": {},
   "outputs": [],
   "source": [
    "ai_message = llm_with_tools.invoke(messages)"
   ]
  },
  {
   "cell_type": "code",
   "execution_count": 42,
   "id": "7142015f-19d0-4c99-9460-7bd87ee32e5b",
   "metadata": {},
   "outputs": [
    {
     "data": {
      "text/plain": [
       "[]"
      ]
     },
     "execution_count": 42,
     "metadata": {},
     "output_type": "execute_result"
    }
   ],
   "source": [
    "ai_message.tool_calls"
   ]
  },
  {
   "cell_type": "code",
   "execution_count": 44,
   "id": "e748b3be-39f9-442b-a481-bf0ff2342bdb",
   "metadata": {},
   "outputs": [],
   "source": [
    "for tool_call in ai_message.tool_calls:\n",
    "    #excecuting the first tool and getting the vakue of conversion rate\n",
    "    if tool_call['name'] == 'get_conversion_factor':\n",
    "        tool_messsage1 = get_conversion_factor.invoke(tool_call)\n",
    "        print(tool_message1)\n",
    "        #fetch this conversion rate\n",
    "        #append this tool message to message list\n",
    "        \n",
    "    #executing the second tool and using the conversion rate from the tool"
   ]
  },
  {
   "cell_type": "code",
   "execution_count": null,
   "id": "4ef01a59-3a55-4721-a584-bfa472139f68",
   "metadata": {},
   "outputs": [],
   "source": []
  }
 ],
 "metadata": {
  "kernelspec": {
   "display_name": "Python [conda env:base] *",
   "language": "python",
   "name": "conda-base-py"
  },
  "language_info": {
   "codemirror_mode": {
    "name": "ipython",
    "version": 3
   },
   "file_extension": ".py",
   "mimetype": "text/x-python",
   "name": "python",
   "nbconvert_exporter": "python",
   "pygments_lexer": "ipython3",
   "version": "3.12.7"
  }
 },
 "nbformat": 4,
 "nbformat_minor": 5
}
